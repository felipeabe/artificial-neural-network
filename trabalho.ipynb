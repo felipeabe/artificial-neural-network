{
  "nbformat": 4,
  "nbformat_minor": 0,
  "metadata": {
    "colab": {
      "provenance": [],
      "authorship_tag": "ABX9TyOqSgzjuk7Yp28vNPWXEDb6",
      "include_colab_link": true
    },
    "kernelspec": {
      "name": "python3",
      "display_name": "Python 3"
    },
    "language_info": {
      "name": "python"
    }
  },
  "cells": [
    {
      "cell_type": "markdown",
      "metadata": {
        "id": "view-in-github",
        "colab_type": "text"
      },
      "source": [
        "<a href=\"https://colab.research.google.com/github/felipeabe/artificial-neural-network/blob/main/trabalho.ipynb\" target=\"_parent\"><img src=\"https://colab.research.google.com/assets/colab-badge.svg\" alt=\"Open In Colab\"/></a>"
      ]
    },
    {
      "cell_type": "code",
      "execution_count": null,
      "metadata": {
        "id": "v6DWBROmLm96"
      },
      "outputs": [],
      "source": [
        "from google.colab import files\n",
        "uploaded = files.upload()\n",
        "\n"
      ]
    },
    {
      "cell_type": "code",
      "source": [
        "import pandas as pd\n",
        "\n",
        "# importing file (multiclass )\n",
        "df = pd.read_csv('obesity.csv')\n",
        "\n",
        "#changing columns names\n",
        "# Defining a dictionary with old column names as keys and new column names as values\n",
        "column_mapping = {\n",
        "    'family_history_with_overweight': 'family_overweight',\n",
        "    'FAVC': 'caloric_food',\n",
        "    'FCVC': 'eat_vegetables',\n",
        "    'NCP': 'meals_day',\n",
        "    'CH20': 'water_day',\n",
        "    'SCC': 'track_calories',\n",
        "    'FAF': 'physical_activity_week',\n",
        "    'CALC': 'alcohol',\n",
        "    'MTRANS': 'transportation_method',\n",
        "    'NObeyesdad': 'obesity_level'\n",
        "}\n",
        "\n",
        "# Renaming the columns using the dictionary\n",
        "df = df.rename(columns=column_mapping)\n",
        "df.head()\n",
        "\n",
        "\n",
        "#caec-> remove\n",
        "#tue -> remove\n",
        "\n",
        "\n"
      ],
      "metadata": {
        "id": "T-fLx-D1L8VX"
      },
      "execution_count": null,
      "outputs": []
    }
  ]
}